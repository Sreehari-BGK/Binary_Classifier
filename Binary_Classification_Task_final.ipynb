{
 "cells": [
  {
   "cell_type": "markdown",
   "id": "9fffbcbc",
   "metadata": {},
   "source": [
    "# Binary Classifier to Classify Images of Trucks & Ships"
   ]
  },
  {
   "cell_type": "code",
   "execution_count": 1,
   "id": "08de9049",
   "metadata": {},
   "outputs": [],
   "source": [
    "import numpy as np\n",
    "import matplotlib.pyplot as plt\n",
    "import tensorflow as tf\n",
    "from tensorflow.keras import datasets, layers, models"
   ]
  },
  {
   "cell_type": "code",
   "execution_count": 2,
   "id": "e7fd5566",
   "metadata": {},
   "outputs": [],
   "source": [
    "(x_train, y_train), (x_test, y_test) = datasets.cifar10.load_data()"
   ]
  },
  {
   "cell_type": "code",
   "execution_count": 3,
   "id": "e9fbc76a",
   "metadata": {},
   "outputs": [],
   "source": [
    "y_train = y_train.reshape(-1,)\n",
    "y_test  = y_test.reshape(-1,)"
   ]
  },
  {
   "cell_type": "code",
   "execution_count": 4,
   "id": "8e870e0e",
   "metadata": {},
   "outputs": [],
   "source": [
    "cifar10_classes = ['airplane', 'automobile', 'bird', 'cat', 'deer', 'dog', 'frog', 'horse', 'ship', 'truck']"
   ]
  },
  {
   "cell_type": "code",
   "execution_count": 5,
   "id": "6ef23cb0",
   "metadata": {},
   "outputs": [
    {
     "data": {
      "image/png": "[encoded data removed]",
      "text/plain": [
       "<Figure size 432x288 with 1 Axes>"
      ]
     },
     "metadata": {
      "needs_background": "light"
     },
     "output_type": "display_data"
    }
   ],
   "source": [
    "def show_image_cifar10(x, y, index):\n",
    "    plt.imshow(x[index])\n",
    "    plt.xlabel(cifar10_classes[y[index]])\n",
    "    \n",
    "show_image_cifar10(x_train, y_train, 11)"
   ]
  },
  {
   "cell_type": "markdown",
   "id": "5a2e583c",
   "metadata": {},
   "source": [
    "## Filtering & preparing truck/ship dataset"
   ]
  },
  {
   "cell_type": "code",
   "execution_count": 6,
   "id": "d9dcbd01",
   "metadata": {},
   "outputs": [],
   "source": [
    "st_x_train = []\n",
    "st_y_train = []\n",
    "\n",
    "for i in range(y_train.shape[0]):\n",
    "    if(y_train[i] == 9 or y_train[i] == 8):\n",
    "        st_x_train.append(x_train[i])\n",
    "        st_y_train.append(y_train[i])\n",
    "        \n",
    "st_x_train = np.array(st_x_train)\n",
    "st_y_train = np.array(st_y_train, dtype = int)"
   ]
  },
  {
   "cell_type": "code",
   "execution_count": 7,
   "id": "c030674c",
   "metadata": {},
   "outputs": [],
   "source": [
    "st_x_test = []\n",
    "st_y_test = []\n",
    "\n",
    "for i in range(y_test.shape[0]):\n",
    "    if(y_test[i] == 9 or y_test[i] == 8):\n",
    "        st_x_test.append(x_test[i])\n",
    "        st_y_test.append(y_test[i])\n",
    "        \n",
    "st_x_test = np.array(st_x_test)\n",
    "st_y_test = np.array(st_y_test, dtype = int)"
   ]
  },
  {
   "cell_type": "code",
   "execution_count": 8,
   "id": "00e43bfb",
   "metadata": {},
   "outputs": [],
   "source": [
    "for i in range(len(st_y_train)):\n",
    "    if(st_y_train[i] == 8):\n",
    "        st_y_train[i] = 0\n",
    "    else:\n",
    "        st_y_train[i] = 1\n",
    "        \n",
    "for i in range(len(st_y_test)):\n",
    "    if(st_y_test[i] == 8):\n",
    "        st_y_test[i] = 0\n",
    "    else:\n",
    "        st_y_test[i] = 1"
   ]
  },
  {
   "cell_type": "code",
   "execution_count": 9,
   "id": "d32834e9",
   "metadata": {},
   "outputs": [],
   "source": [
    "st_ds_classes = ['ship', 'truck']"
   ]
  },
  {
   "cell_type": "code",
   "execution_count": 10,
   "id": "dafc2f6a",
   "metadata": {},
   "outputs": [
    {
     "data": {
      "image/png": "[encoded data removed]",
      "text/plain": [
       "<Figure size 432x288 with 1 Axes>"
      ]
     },
     "metadata": {
      "needs_background": "light"
     },
     "output_type": "display_data"
    }
   ],
   "source": [
    "def show_image_st_ds(x, y, index):\n",
    "    plt.imshow(x[index])\n",
    "    plt.xlabel(st_ds_classes[y[index]])\n",
    "    \n",
    "show_image_st_ds(st_x_train, st_y_train, 14)"
   ]
  },
  {
   "cell_type": "code",
   "execution_count": 11,
   "id": "32e833cf",
   "metadata": {},
   "outputs": [],
   "source": [
    "st_x_train = st_x_train/255 \n",
    "st_x_test = st_x_test/255"
   ]
  },
  {
   "cell_type": "markdown",
   "id": "82448320",
   "metadata": {},
   "source": [
    "## CNN Model"
   ]
  },
  {
   "cell_type": "code",
   "execution_count": 12,
   "id": "8ea4d549",
   "metadata": {},
   "outputs": [],
   "source": [
    "bc_cnn = models.Sequential([\n",
    "    #cnn\n",
    "    layers.Conv2D(filters = 16, kernel_size = (3, 3), activation = 'relu', input_shape = (32, 32, 3)),\n",
    "    layers.MaxPooling2D((2, 2)),\n",
    "    \n",
    "    layers.Conv2D(filters = 64, kernel_size = (3, 3), activation = 'relu'),\n",
    "    layers.MaxPooling2D((2, 2)),\n",
    "    \n",
    "    #dense\n",
    "    layers.Flatten(),\n",
    "    layers.Dense(32, activation = 'relu'),\n",
    "    layers.Dense(2, activation = 'softmax'),\n",
    "])"
   ]
  },
  {
   "cell_type": "code",
   "execution_count": 13,
   "id": "6ef2015c",
   "metadata": {},
   "outputs": [],
   "source": [
    "bc_cnn.compile(optimizer = 'adam',\n",
    "              loss = 'sparse_categorical_crossentropy',\n",
    "              metrics = 'accuracy')"
   ]
  },
  {
   "cell_type": "markdown",
   "id": "a4d02991",
   "metadata": {},
   "source": [
    "## Training the model"
   ]
  },
  {
   "cell_type": "code",
   "execution_count": 14,
   "id": "d1f77fe7",
   "metadata": {},
   "outputs": [
    {
     "name": "stdout",
     "output_type": "stream",
     "text": [
      "Epoch 1/5\n",
      "313/313 [==============================] - 4s 11ms/step - loss: 0.3974 - accuracy: 0.8177\n",
      "Epoch 2/5\n",
      "313/313 [==============================] - 4s 11ms/step - loss: 0.2560 - accuracy: 0.8963\n",
      "Epoch 3/5\n",
      "313/313 [==============================] - 4s 11ms/step - loss: 0.2132 - accuracy: 0.9162\n",
      "Epoch 4/5\n",
      "313/313 [==============================] - 3s 11ms/step - loss: 0.1869 - accuracy: 0.9261\n",
      "Epoch 5/5\n",
      "313/313 [==============================] - 4s 12ms/step - loss: 0.1698 - accuracy: 0.9339\n"
     ]
    },
    {
     "data": {
      "text/plain": [
       "<keras.callbacks.History at 0x2267de79850>"
      ]
     },
     "execution_count": 14,
     "metadata": {},
     "output_type": "execute_result"
    }
   ],
   "source": [
    "bc_cnn.fit(st_x_train, st_y_train, epochs = 5)"
   ]
  },
  {
   "cell_type": "code",
   "execution_count": 16,
   "id": "590b5936",
   "metadata": {},
   "outputs": [
    {
     "name": "stdout",
     "output_type": "stream",
     "text": [
      "63/63 [==============================] - 0s 5ms/step - loss: 0.2095 - accuracy: 0.9190\n"
     ]
    },
    {
     "data": {
      "text/plain": [
       "[0.20950329303741455, 0.9190000295639038]"
      ]
     },
     "execution_count": 16,
     "metadata": {},
     "output_type": "execute_result"
    }
   ],
   "source": [
    "bc_cnn.evaluate(st_x_test, st_y_test)"
   ]
  },
  {
   "cell_type": "markdown",
   "id": "355310be",
   "metadata": {},
   "source": [
    "## Testing the model"
   ]
  },
  {
   "cell_type": "code",
   "execution_count": 17,
   "id": "0d7be22d",
   "metadata": {},
   "outputs": [],
   "source": [
    "pred = bc_cnn.predict(st_x_test)\n",
    "pred_result = [np.argmax(element) for element in pred]"
   ]
  },
  {
   "cell_type": "code",
   "execution_count": 18,
   "id": "102b100a",
   "metadata": {},
   "outputs": [
    {
     "data": {
      "image/png": "[encoded data removed]",
      "text/plain": [
       "<Figure size 432x288 with 1 Axes>"
      ]
     },
     "metadata": {
      "needs_background": "light"
     },
     "output_type": "display_data"
    }
   ],
   "source": [
    "show_image_st_ds(st_x_test, pred_result, 1)"
   ]
  },
  {
   "cell_type": "markdown",
   "id": "99fa4e07",
   "metadata": {},
   "source": [
    "## Saving the model"
   ]
  },
  {
   "cell_type": "code",
   "execution_count": 19,
   "id": "790f199b",
   "metadata": {},
   "outputs": [],
   "source": [
    "tf.keras.models.save_model(bc_cnn,'bc_st_cnn_model.hdf5')"
   ]
  },
  {
   "cell_type": "code",
   "execution_count": null,
   "id": "8662400f",
   "metadata": {},
   "outputs": [],
   "source": []
  }
 ],
 "metadata": {
  "kernelspec": {
   "display_name": "Python 3",
   "language": "python",
   "name": "python3"
  },
  "language_info": {
   "codemirror_mode": {
    "name": "ipython",
    "version": 3
   },
   "file_extension": ".py",
   "mimetype": "text/x-python",
   "name": "python",
   "nbconvert_exporter": "python",
   "pygments_lexer": "ipython3",
   "version": "3.8.8"
  }
 },
 "nbformat": 4,
 "nbformat_minor": 5
}
